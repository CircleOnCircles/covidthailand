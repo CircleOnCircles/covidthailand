{
 "cells": [
  {
   "cell_type": "code",
   "execution_count": 2,
   "metadata": {},
   "outputs": [],
   "source": [
    "import pandas as pd\n",
    "from itertools import product\n"
   ]
  },
  {
   "cell_type": "code",
   "execution_count": 3,
   "metadata": {},
   "outputs": [],
   "source": [
    "df = pd.read_excel(r'../icu/res53-tb09_formatted.xlsx')\n",
    "h1 = [x if 'Unnamed' not in x else None for x in df.columns.to_list()[3:]]\n",
    "\n",
    "header = pd.Series(h1); header\n",
    "header = header.fillna(method='ffill')\n",
    "header2 = df.iloc[0,3:]\n",
    "\n",
    "header_df = pd.concat([header.reset_index(drop=True), header2.reset_index(drop=True)], axis=1); header_df\n",
    "header = header_df.apply(lambda x: '_'.join(x), axis = 1).to_list()\n",
    "\n",
    "df.columns = ['ภาค', 'เขต', 'จังหวัด'] + header\n",
    "df = df.drop(0)\n",
    "df[['ภาค', 'เขต']] = df[['ภาค', 'เขต']].fillna(method='ffill')\n",
    "df = df[(df['จังหวัด'] != 'รวมภาค') & (df['จังหวัด'] != 'รวมเขต')]\n",
    "\n",
    "en_colname = list(map(lambda x: f'{x[0]}_{x[1]}',product(['Total', 'HealthMinistry', 'OtherMinistries', 'StateEnterprise', 'IndependentOrganization', 'LocalAdministrativeOrganization', \"PrivateCompany\"],['N_Hospital', 'N_ICU_BED'])))\n",
    "df.columns = ['Region', 'SubRegion', 'Province'] + en_colname\n",
    "df.to_csv('n_icu_bed_2553.csv', index=False)\n",
    "\n"
   ]
  },
  {
   "cell_type": "code",
   "execution_count": null,
   "metadata": {},
   "outputs": [],
   "source": []
  }
 ],
 "metadata": {
  "interpreter": {
   "hash": "7f7146113992793b20aad11cd7b9833fdc331b01a31c6c05e4f2747bea4bc7f5"
  },
  "kernelspec": {
   "display_name": "Python 3.9.5 64-bit ('covidthailand-wP5UyKg0': virtualenv)",
   "name": "python3"
  },
  "language_info": {
   "codemirror_mode": {
    "name": "ipython",
    "version": 3
   },
   "file_extension": ".py",
   "mimetype": "text/x-python",
   "name": "python",
   "nbconvert_exporter": "python",
   "pygments_lexer": "ipython3",
   "version": "3.9.5"
  },
  "orig_nbformat": 4
 },
 "nbformat": 4,
 "nbformat_minor": 2
}
